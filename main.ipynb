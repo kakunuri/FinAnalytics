{
 "cells": [
  {
   "cell_type": "code",
   "execution_count": null,
   "metadata": {},
   "outputs": [],
   "source": [
    "import pandas as pd\n",
    "import json\n",
    "\n",
    "# Read the JSON file\n",
    "with open('income-2024.json', 'r') as file:\n",
    "    data_2024 = json.load(file)\n",
    "\n",
    "with open('income-2025.json', 'r') as file:\n",
    "    data_2025 = json.load(file)\n",
    "\n",
    "# Convert to DataFrame\n",
    "df = pd.json_normalize([data_2024, data_2025])\n",
    "# Convert column names to use underscores instead of dots and spaces\n",
    "df.columns = df.columns.str.replace('.', '_').str.replace(' ', '_')\n",
    "\n",
    "# Print the DataFrame\n",
    "print(df)"
   ]
  },
  {
   "cell_type": "code",
   "execution_count": 118,
   "metadata": {},
   "outputs": [],
   "source": [
    "from llama_index.core import Settings\n",
    "from llama_index.llms.fireworks import Fireworks\n",
    "import os\n",
    "# Set Fireworks API key\n",
    "os.environ[\"FIREWORKS_API_KEY\"] = \"YOUR_KEY\"  # Replace with your actual key\n",
    "\n",
    "# Configure LlamaIndex to use Fireworks\n",
    "Settings.llm = Fireworks(\n",
    "    model=\"accounts/fireworks/models/mixtral-8x7b-instruct\",\n",
    "    max_tokens=512,\n",
    "    temperature=0.1\n",
    ")"
   ]
  },
  {
   "cell_type": "code",
   "execution_count": null,
   "metadata": {},
   "outputs": [],
   "source": [
    "df_schema = \"\\n\".join([\n",
    "    f\"{col} ({df[col].dtype})\" \n",
    "    for col in df.columns\n",
    "])\n",
    "print(df_schema)"
   ]
  },
  {
   "cell_type": "code",
   "execution_count": 142,
   "metadata": {},
   "outputs": [],
   "source": [
    "from llama_index.experimental.query_engine import PandasQueryEngine\n",
    "\n",
    "query_engine = PandasQueryEngine(\n",
    "    df=df,\n",
    "    verbose=True,\n",
    "    instruction_str = \"\"\"You are a financial data analysis assistant working with a pandas DataFrame. Your goal is to generate accurate Python pandas code to answer user queries.\n",
    "\n",
    "DataFrame Schema:\n",
    "{df_schema}\n",
    "### IMPORTANT RESPONSE FORMAT RULES:\n",
    "1. Provide ONLY the Python code, no explanations or markdown.\n",
    "2. Do not include backticks (```) or language indicators.\n",
    "3. Do not include any text before or after the code.\n",
    "4. The response should be a single line of Python code that can be directly evaluated.\n",
    "\"\"\"\n",
    ")"
   ]
  },
  {
   "cell_type": "code",
   "execution_count": null,
   "metadata": {},
   "outputs": [],
   "source": [
    "response = query_engine.query(\"What is the total revenue in 2024?\")\n",
    "print(response)"
   ]
  },
  {
   "cell_type": "code",
   "execution_count": null,
   "metadata": {},
   "outputs": [],
   "source": [
    "response = query_engine.query(\"What is the total operating expenses in 2025?\")\n",
    "print(response)"
   ]
  },
  {
   "cell_type": "code",
   "execution_count": null,
   "metadata": {},
   "outputs": [],
   "source": [
    "response = query_engine.query(\"What is the total cost of sales in 2024?\")\n",
    "print(response)"
   ]
  }
 ],
 "metadata": {
  "kernelspec": {
   "display_name": "learn",
   "language": "python",
   "name": "python3"
  },
  "language_info": {
   "codemirror_mode": {
    "name": "ipython",
    "version": 3
   },
   "file_extension": ".py",
   "mimetype": "text/x-python",
   "name": "python",
   "nbconvert_exporter": "python",
   "pygments_lexer": "ipython3",
   "version": "3.11.10"
  }
 },
 "nbformat": 4,
 "nbformat_minor": 2
}
